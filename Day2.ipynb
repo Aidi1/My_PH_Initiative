{
  "nbformat": 4,
  "nbformat_minor": 0,
  "metadata": {
    "colab": {
      "name": "Day2.ipynb",
      "provenance": [],
      "collapsed_sections": [],
      "authorship_tag": "ABX9TyNFo1cQrwo590zwXU9+BfwM",
      "include_colab_link": true
    },
    "kernelspec": {
      "name": "python3",
      "display_name": "Python 3"
    },
    "language_info": {
      "name": "python"
    }
  },
  "cells": [
    {
      "cell_type": "markdown",
      "metadata": {
        "id": "view-in-github",
        "colab_type": "text"
      },
      "source": [
        "<a href=\"https://colab.research.google.com/github/Aidi1/My_PH_Initiative/blob/master/Day2.ipynb\" target=\"_parent\"><img src=\"https://colab.research.google.com/assets/colab-badge.svg\" alt=\"Open In Colab\"/></a>"
      ]
    },
    {
      "cell_type": "code",
      "metadata": {
        "colab": {
          "base_uri": "https://localhost:8080/"
        },
        "id": "-7PlFed8kBrR",
        "outputId": "cd918102-1723-4693-fc63-7abd58f716fa"
      },
      "source": [
        "var = 1.908J\n",
        "type(var)"
      ],
      "execution_count": 1,
      "outputs": [
        {
          "output_type": "execute_result",
          "data": {
            "text/plain": [
              "complex"
            ]
          },
          "metadata": {
            "tags": []
          },
          "execution_count": 1
        }
      ]
    },
    {
      "cell_type": "code",
      "metadata": {
        "colab": {
          "base_uri": "https://localhost:8080/"
        },
        "id": "XiPTcH_slU5q",
        "outputId": "06bcba2f-ae76-40ef-d02b-7d123d1e63a4"
      },
      "source": [
        "var = 3 * 10**3\n",
        "type(var)"
      ],
      "execution_count": 2,
      "outputs": [
        {
          "output_type": "execute_result",
          "data": {
            "text/plain": [
              "int"
            ]
          },
          "metadata": {
            "tags": []
          },
          "execution_count": 2
        }
      ]
    },
    {
      "cell_type": "code",
      "metadata": {
        "colab": {
          "base_uri": "https://localhost:8080/"
        },
        "id": "piBv919Elhlf",
        "outputId": "0f75bda7-9540-4962-c0f1-dac032157b55"
      },
      "source": [
        "var = 2**3.999\n",
        "type(var)"
      ],
      "execution_count": 4,
      "outputs": [
        {
          "output_type": "execute_result",
          "data": {
            "text/plain": [
              "float"
            ]
          },
          "metadata": {
            "tags": []
          },
          "execution_count": 4
        }
      ]
    },
    {
      "cell_type": "code",
      "metadata": {
        "colab": {
          "base_uri": "https://localhost:8080/"
        },
        "id": "kMVzBV1knIOs",
        "outputId": "e0d76203-a442-4299-a86e-deb438366dcc"
      },
      "source": [
        "name = \"my name is \\\"aidi\\\" \"\n",
        "print(tate)\n",
        "type(name)\n",
        "\n",
        "car = ' Q W E R T Y '\n",
        "len(car)\n",
        "car = car.strip()\n",
        "print(car)\n",
        "# we have used the escape sequence"
      ],
      "execution_count": 12,
      "outputs": [
        {
          "output_type": "stream",
          "text": [
            "my name is \"aidi\" \n",
            "Q W E R T Y\n"
          ],
          "name": "stdout"
        }
      ]
    },
    {
      "cell_type": "code",
      "metadata": {
        "colab": {
          "base_uri": "https://localhost:8080/"
        },
        "id": "lZVnloO9rBXc",
        "outputId": "3199038c-4875-4883-9200-f8fa3f668052"
      },
      "source": [
        "eze = 'JAGUAR'\n",
        "print(eze.lower())"
      ],
      "execution_count": 13,
      "outputs": [
        {
          "output_type": "stream",
          "text": [
            "jaguar\n"
          ],
          "name": "stdout"
        }
      ]
    },
    {
      "cell_type": "code",
      "metadata": {
        "colab": {
          "base_uri": "https://localhost:8080/"
        },
        "id": "aR5-iNLnrLx-",
        "outputId": "84c7ac03-408b-402d-b51e-646f2fb75f2d"
      },
      "source": [
        "car_1 = ' J A G U R '\n",
        "print(len(car_1))"
      ],
      "execution_count": 14,
      "outputs": [
        {
          "output_type": "stream",
          "text": [
            "11\n"
          ],
          "name": "stdout"
        }
      ]
    },
    {
      "cell_type": "code",
      "metadata": {
        "colab": {
          "base_uri": "https://localhost:8080/"
        },
        "id": "cxHinyxKrWox",
        "outputId": "9a9e8cba-1f39-451c-c171-fe4c2de98346"
      },
      "source": [
        "car_1 = ' J A G U R '\n",
        "print(len(car_1.strip()))\n"
      ],
      "execution_count": 16,
      "outputs": [
        {
          "output_type": "stream",
          "text": [
            "9\n"
          ],
          "name": "stdout"
        }
      ]
    },
    {
      "cell_type": "code",
      "metadata": {
        "colab": {
          "base_uri": "https://localhost:8080/",
          "height": 204
        },
        "id": "h2-xkrm84BpM",
        "outputId": "cd52a5b4-26b2-49fc-d4a3-61f7b2ac218c"
      },
      "source": [
        "import seaborn \n",
        "data = seaborn.load_dataset(\"iris\")\n",
        "data.head()"
      ],
      "execution_count": 18,
      "outputs": [
        {
          "output_type": "execute_result",
          "data": {
            "text/html": [
              "<div>\n",
              "<style scoped>\n",
              "    .dataframe tbody tr th:only-of-type {\n",
              "        vertical-align: middle;\n",
              "    }\n",
              "\n",
              "    .dataframe tbody tr th {\n",
              "        vertical-align: top;\n",
              "    }\n",
              "\n",
              "    .dataframe thead th {\n",
              "        text-align: right;\n",
              "    }\n",
              "</style>\n",
              "<table border=\"1\" class=\"dataframe\">\n",
              "  <thead>\n",
              "    <tr style=\"text-align: right;\">\n",
              "      <th></th>\n",
              "      <th>sepal_length</th>\n",
              "      <th>sepal_width</th>\n",
              "      <th>petal_length</th>\n",
              "      <th>petal_width</th>\n",
              "      <th>species</th>\n",
              "    </tr>\n",
              "  </thead>\n",
              "  <tbody>\n",
              "    <tr>\n",
              "      <th>0</th>\n",
              "      <td>5.1</td>\n",
              "      <td>3.5</td>\n",
              "      <td>1.4</td>\n",
              "      <td>0.2</td>\n",
              "      <td>setosa</td>\n",
              "    </tr>\n",
              "    <tr>\n",
              "      <th>1</th>\n",
              "      <td>4.9</td>\n",
              "      <td>3.0</td>\n",
              "      <td>1.4</td>\n",
              "      <td>0.2</td>\n",
              "      <td>setosa</td>\n",
              "    </tr>\n",
              "    <tr>\n",
              "      <th>2</th>\n",
              "      <td>4.7</td>\n",
              "      <td>3.2</td>\n",
              "      <td>1.3</td>\n",
              "      <td>0.2</td>\n",
              "      <td>setosa</td>\n",
              "    </tr>\n",
              "    <tr>\n",
              "      <th>3</th>\n",
              "      <td>4.6</td>\n",
              "      <td>3.1</td>\n",
              "      <td>1.5</td>\n",
              "      <td>0.2</td>\n",
              "      <td>setosa</td>\n",
              "    </tr>\n",
              "    <tr>\n",
              "      <th>4</th>\n",
              "      <td>5.0</td>\n",
              "      <td>3.6</td>\n",
              "      <td>1.4</td>\n",
              "      <td>0.2</td>\n",
              "      <td>setosa</td>\n",
              "    </tr>\n",
              "  </tbody>\n",
              "</table>\n",
              "</div>"
            ],
            "text/plain": [
              "   sepal_length  sepal_width  petal_length  petal_width species\n",
              "0           5.1          3.5           1.4          0.2  setosa\n",
              "1           4.9          3.0           1.4          0.2  setosa\n",
              "2           4.7          3.2           1.3          0.2  setosa\n",
              "3           4.6          3.1           1.5          0.2  setosa\n",
              "4           5.0          3.6           1.4          0.2  setosa"
            ]
          },
          "metadata": {
            "tags": []
          },
          "execution_count": 18
        }
      ]
    },
    {
      "cell_type": "code",
      "metadata": {
        "colab": {
          "base_uri": "https://localhost:8080/"
        },
        "id": "hGusIrmJ4d0z",
        "outputId": "6ceebdc0-89a8-40cd-e9ff-d8009a66d1c8"
      },
      "source": [
        "data.to_csv('iris.csv', index=False)\n",
        "print(data[10:21])"
      ],
      "execution_count": 22,
      "outputs": [
        {
          "output_type": "stream",
          "text": [
            "    sepal_length  sepal_width  petal_length  petal_width species\n",
            "10           5.4          3.7           1.5          0.2  setosa\n",
            "11           4.8          3.4           1.6          0.2  setosa\n",
            "12           4.8          3.0           1.4          0.1  setosa\n",
            "13           4.3          3.0           1.1          0.1  setosa\n",
            "14           5.8          4.0           1.2          0.2  setosa\n",
            "15           5.7          4.4           1.5          0.4  setosa\n",
            "16           5.4          3.9           1.3          0.4  setosa\n",
            "17           5.1          3.5           1.4          0.3  setosa\n",
            "18           5.7          3.8           1.7          0.3  setosa\n",
            "19           5.1          3.8           1.5          0.3  setosa\n",
            "20           5.4          3.4           1.7          0.2  setosa\n"
          ],
          "name": "stdout"
        }
      ]
    }
  ]
}